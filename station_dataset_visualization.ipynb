{
 "cells": [
  {
   "cell_type": "code",
   "execution_count": 2,
   "id": "f4682b43-1195-4057-a59f-1215cd287919",
   "metadata": {},
   "outputs": [],
   "source": [
    "import pandas as pd\n",
    "import glob\n",
    "import numpy as np\n",
    "import matplotlib.pyplot as plt\n",
    "import seaborn as sns"
   ]
  },
  {
   "cell_type": "code",
   "execution_count": 3,
   "id": "80a50fe7-243e-4546-933a-d0b9f7f680f6",
   "metadata": {},
   "outputs": [],
   "source": [
    "station_df = pd.read_csv('stations.csv')"
   ]
  },
  {
   "cell_type": "code",
   "execution_count": 4,
   "id": "1d7cea7a-2456-4762-92a6-f29cf0f1fd25",
   "metadata": {},
   "outputs": [
    {
     "data": {
      "text/html": [
       "<div>\n",
       "<style scoped>\n",
       "    .dataframe tbody tr th:only-of-type {\n",
       "        vertical-align: middle;\n",
       "    }\n",
       "\n",
       "    .dataframe tbody tr th {\n",
       "        vertical-align: top;\n",
       "    }\n",
       "\n",
       "    .dataframe thead th {\n",
       "        text-align: right;\n",
       "    }\n",
       "</style>\n",
       "<table border=\"1\" class=\"dataframe\">\n",
       "  <thead>\n",
       "    <tr style=\"text-align: right;\">\n",
       "      <th></th>\n",
       "      <th>id</th>\n",
       "      <th>name</th>\n",
       "      <th>address</th>\n",
       "      <th>lon</th>\n",
       "      <th>lat</th>\n",
       "      <th>elevation</th>\n",
       "    </tr>\n",
       "  </thead>\n",
       "  <tbody>\n",
       "    <tr>\n",
       "      <th>0</th>\n",
       "      <td>28079004</td>\n",
       "      <td>Pza. de España</td>\n",
       "      <td>Plaza de España</td>\n",
       "      <td>-3.712247</td>\n",
       "      <td>40.423853</td>\n",
       "      <td>635</td>\n",
       "    </tr>\n",
       "    <tr>\n",
       "      <th>1</th>\n",
       "      <td>28079008</td>\n",
       "      <td>Escuelas Aguirre</td>\n",
       "      <td>Entre C/ Alcalá y C/ O’ Donell</td>\n",
       "      <td>-3.682319</td>\n",
       "      <td>40.421564</td>\n",
       "      <td>670</td>\n",
       "    </tr>\n",
       "    <tr>\n",
       "      <th>2</th>\n",
       "      <td>28079011</td>\n",
       "      <td>Avda. Ramón y Cajal</td>\n",
       "      <td>Avda. Ramón y Cajal  esq. C/ Príncipe de Vergara</td>\n",
       "      <td>-3.677356</td>\n",
       "      <td>40.451475</td>\n",
       "      <td>708</td>\n",
       "    </tr>\n",
       "    <tr>\n",
       "      <th>3</th>\n",
       "      <td>28079016</td>\n",
       "      <td>Arturo Soria</td>\n",
       "      <td>C/ Arturo Soria  esq. C/  Vizconde de los Asilos</td>\n",
       "      <td>-3.639233</td>\n",
       "      <td>40.440047</td>\n",
       "      <td>693</td>\n",
       "    </tr>\n",
       "    <tr>\n",
       "      <th>4</th>\n",
       "      <td>28079017</td>\n",
       "      <td>Villaverde</td>\n",
       "      <td>C/. Juan Peñalver</td>\n",
       "      <td>-3.713322</td>\n",
       "      <td>40.347139</td>\n",
       "      <td>604</td>\n",
       "    </tr>\n",
       "  </tbody>\n",
       "</table>\n",
       "</div>"
      ],
      "text/plain": [
       "         id                 name  \\\n",
       "0  28079004       Pza. de España   \n",
       "1  28079008     Escuelas Aguirre   \n",
       "2  28079011  Avda. Ramón y Cajal   \n",
       "3  28079016         Arturo Soria   \n",
       "4  28079017           Villaverde   \n",
       "\n",
       "                                             address       lon        lat  \\\n",
       "0                                    Plaza de España -3.712247  40.423853   \n",
       "1                    Entre C/ Alcalá y C/ O’ Donell  -3.682319  40.421564   \n",
       "2   Avda. Ramón y Cajal  esq. C/ Príncipe de Vergara -3.677356  40.451475   \n",
       "3  C/ Arturo Soria  esq. C/  Vizconde de los Asilos  -3.639233  40.440047   \n",
       "4                                  C/. Juan Peñalver -3.713322  40.347139   \n",
       "\n",
       "   elevation  \n",
       "0        635  \n",
       "1        670  \n",
       "2        708  \n",
       "3        693  \n",
       "4        604  "
      ]
     },
     "execution_count": 4,
     "metadata": {},
     "output_type": "execute_result"
    }
   ],
   "source": [
    "station_df.head()"
   ]
  },
  {
   "cell_type": "code",
   "execution_count": 5,
   "id": "3508cad2-3448-40de-aaf9-7ee7df1ce314",
   "metadata": {},
   "outputs": [
    {
     "name": "stdout",
     "output_type": "stream",
     "text": [
      "<class 'pandas.core.frame.DataFrame'>\n",
      "RangeIndex: 24 entries, 0 to 23\n",
      "Data columns (total 6 columns):\n",
      " #   Column     Non-Null Count  Dtype  \n",
      "---  ------     --------------  -----  \n",
      " 0   id         24 non-null     int64  \n",
      " 1   name       24 non-null     object \n",
      " 2   address    24 non-null     object \n",
      " 3   lon        24 non-null     float64\n",
      " 4   lat        24 non-null     float64\n",
      " 5   elevation  24 non-null     int64  \n",
      "dtypes: float64(2), int64(2), object(2)\n",
      "memory usage: 1.2+ KB\n"
     ]
    }
   ],
   "source": [
    "station_df.info()"
   ]
  },
  {
   "cell_type": "code",
   "execution_count": 6,
   "id": "4022a726-10c1-4fb5-9395-02c81e899fb5",
   "metadata": {},
   "outputs": [
    {
     "data": {
      "text/plain": [
       "<AxesSubplot:xlabel='elevation', ylabel='count'>"
      ]
     },
     "execution_count": 6,
     "metadata": {},
     "output_type": "execute_result"
    },
    {
     "data": {
      "image/png": "[encoded data removed]",
      "text/plain": [
       "<Figure size 432x288 with 1 Axes>"
      ]
     },
     "metadata": {
      "needs_background": "light"
     },
     "output_type": "display_data"
    }
   ],
   "source": [
    "sns.countplot(x = station_df['elevation'])"
   ]
  },
  {
   "cell_type": "code",
   "execution_count": 7,
   "id": "b36e9611-bb1f-454f-92c3-3d553da3d740",
   "metadata": {},
   "outputs": [
    {
     "data": {
      "text/plain": [
       "<AxesSubplot:xlabel='lat'>"
      ]
     },
     "execution_count": 7,
     "metadata": {},
     "output_type": "execute_result"
    },
    {
     "data": {
      "image/png": "[encoded data removed]",
      "text/plain": [
       "<Figure size 432x288 with 1 Axes>"
      ]
     },
     "metadata": {
      "needs_background": "light"
     },
     "output_type": "display_data"
    }
   ],
   "source": [
    "sns.boxplot(x = station_df['lat'])"
   ]
  },
  {
   "cell_type": "code",
   "execution_count": 8,
   "id": "294e310d-3fc8-4c7c-9f8e-f94e527abb76",
   "metadata": {},
   "outputs": [
    {
     "data": {
      "text/plain": [
       "<AxesSubplot:xlabel='lon'>"
      ]
     },
     "execution_count": 8,
     "metadata": {},
     "output_type": "execute_result"
    },
    {
     "data": {
      "image/png": "[encoded data removed]",
      "text/plain": [
       "<Figure size 432x288 with 1 Axes>"
      ]
     },
     "metadata": {
      "needs_background": "light"
     },
     "output_type": "display_data"
    }
   ],
   "source": [
    "sns.boxplot(x = station_df['lon'])"
   ]
  },
  {
   "cell_type": "code",
   "execution_count": 9,
   "id": "dd34efb0-091d-48d3-a324-ed7e32563306",
   "metadata": {},
   "outputs": [
    {
     "data": {
      "text/plain": [
       "<matplotlib.collections.PathCollection at 0x21365ada940>"
      ]
     },
     "execution_count": 9,
     "metadata": {},
     "output_type": "execute_result"
    },
    {
     "data": {
      "image/png": "[encoded data removed]",
      "text/plain": [
       "<Figure size 432x288 with 1 Axes>"
      ]
     },
     "metadata": {
      "needs_background": "light"
     },
     "output_type": "display_data"
    }
   ],
   "source": [
    "plt.scatter(station_df['lat'], station_df['elevation'])"
   ]
  },
  {
   "cell_type": "code",
   "execution_count": 10,
   "id": "b71c0309-474f-4ef5-8e9b-087b643f8028",
   "metadata": {},
   "outputs": [
    {
     "data": {
      "text/plain": [
       "<matplotlib.collections.PathCollection at 0x21365b44070>"
      ]
     },
     "execution_count": 10,
     "metadata": {},
     "output_type": "execute_result"
    },
    {
     "data": {
      "image/png": "[encoded data removed]",
      "text/plain": [
       "<Figure size 432x288 with 1 Axes>"
      ]
     },
     "metadata": {
      "needs_background": "light"
     },
     "output_type": "display_data"
    }
   ],
   "source": [
    "plt.scatter(station_df['lon'], station_df['elevation'])"
   ]
  },
  {
   "cell_type": "markdown",
   "id": "cd44bb70-2368-4a66-a30d-36a4df3536b4",
   "metadata": {},
   "source": [
    "There is a weak positive correlation between the latitude and the elevation(they tend to rise together) meaning that areas with high latitude can be characterized with air quality such as lower oxygen, strong winds, frigid temperatures etc\n",
    "\n",
    "The above statement is also true for the longitude but the relationship between latitude and elevation is stronger than that of longitude and elevation."
   ]
  }
 ],
 "metadata": {
  "kernelspec": {
   "display_name": "Python 3",
   "language": "python",
   "name": "python3"
  },
  "language_info": {
   "codemirror_mode": {
    "name": "ipython",
    "version": 3
   },
   "file_extension": ".py",
   "mimetype": "text/x-python",
   "name": "python",
   "nbconvert_exporter": "python",
   "pygments_lexer": "ipython3",
   "version": "3.8.8"
  }
 },
 "nbformat": 4,
 "nbformat_minor": 5
}
